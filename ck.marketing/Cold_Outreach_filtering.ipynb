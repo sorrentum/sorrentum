{
 "cells": [
  {
   "cell_type": "code",
   "execution_count": 85,
   "metadata": {},
   "outputs": [],
   "source": [
    "import pandas as pd\n",
    "from openpyxl import load_workbook\n"
   ]
  },
  {
   "cell_type": "code",
   "execution_count": 86,
   "metadata": {},
   "outputs": [],
   "source": [
    "data = pd.read_excel('C:/Users/DELL/Desktop/Kaizen/Cold_Outreach/Data/Healthcare_Leads.xlsx') # Give loc of req file"
   ]
  },
  {
   "cell_type": "code",
   "execution_count": 87,
   "metadata": {},
   "outputs": [],
   "source": [
    "personal_domains = ['gmail.com', 'yahoo.com', 'hotmail.com', '.edu']\n"
   ]
  },
  {
   "cell_type": "code",
   "execution_count": 88,
   "metadata": {},
   "outputs": [],
   "source": [
    "def filter_rows(row: dict) -> bool:\n",
    "    \"\"\"\n",
    "    Filter rows based on specific criteria.\n",
    "\n",
    "    This function filters rows from a dataset based on the values of\n",
    "    'company_domain' and 'email_first' fields. It removes rows with\n",
    "    empty 'email_first' values and those containing personal email\n",
    "    domains in the 'email_first' field.\n",
    "\n",
    "    :param row: A dictionary representing a row of data.\n",
    "                It should contain keys 'company_domain' and 'email_first'.\n",
    "    :return:    True if the row meets the filtering criteria, False otherwise.\n",
    "    \"\"\"\n",
    "\n",
    "    # Extract company_domain and email_first from the row\n",
    "    company_domain = str(row.get('company_domain', '')).strip()\n",
    "    email_first = str(row.get('email_first', '')).strip()\n",
    "    \n",
    "    # Remove rows with empty 'email_first'\n",
    "    if not email_first:\n",
    "        return False\n",
    "\n",
    "    # Extract the domain from 'email_first'\n",
    "    email_domain = email_first.split('@')[-1]\n",
    "    \n",
    "    # Define personal email domains\n",
    "    personal_domains = ['gmail.com', 'yahoo.com', 'hotmail.com']\n",
    "\n",
    "    if company_domain:\n",
    "        # Keep the row if the email domain is equal to company_domain\n",
    "        # and it's not a personal email\n",
    "        return email_domain == company_domain and not any(domain in email_first for domain in personal_domains)\n",
    "    else:\n",
    "        # If company_domain is empty, keep the row if email_first\n",
    "        # is not a personal email\n",
    "        return not any(domain in email_first for domain in personal_domains)  \n"
   ]
  },
  {
   "cell_type": "code",
   "execution_count": 89,
   "metadata": {},
   "outputs": [],
   "source": [
    "filter_mask = data.apply(filter_rows, axis=1)\n",
    "\n",
    "filtered_data = data[filter_mask]\n",
    "removed_data = data[~filter_mask]\n",
    "\n",
    "columns_to_keep = ['email_first', 'first_name', 'last_name', 'job_title', 'company_name', 'company_domain', 'city']\n",
    "filtered_data = filtered_data[columns_to_keep]\n",
    "\n",
    "filtered_data = filtered_data[filtered_data['email_first'].notnull()]\n",
    "\n",
    "\n",
    "# Save filtered data and removed data to new sheets in the same Excel file\n",
    "output_path = 'C:/Users/DELL/Desktop/Kaizen/Cold_Outreach/Data/Healthcare_Leads.xlsx'\n",
    "with pd.ExcelWriter(output_path, mode='a', engine='openpyxl') as writer:\n",
    "    filtered_data.to_excel(writer, sheet_name='Filtered_Data', index=False)\n",
    "    removed_data.to_excel(writer, sheet_name='Removed_Data', index=False)"
   ]
  },
  {
   "cell_type": "code",
   "execution_count": 90,
   "metadata": {},
   "outputs": [
    {
     "name": "stdout",
     "output_type": "stream",
     "text": [
      "Total rows: 699\n",
      "Rows removed: 149\n",
      "Rows kept: 543\n",
      "Percentage reduction: 21.32%\n"
     ]
    }
   ],
   "source": [
    "num_removed = len(removed_data)\n",
    "num_total = len(data)\n",
    "num_kept = len(filtered_data)\n",
    "percent_reduction = (num_removed / num_total) * 100\n",
    "\n",
    "print(f\"Total rows: {num_total}\")\n",
    "print(f\"Rows removed: {num_removed}\")\n",
    "print(f\"Rows kept: {num_kept}\")\n",
    "print(f\"Percentage reduction: {percent_reduction:.2f}%\")"
   ]
  }
 ],
 "metadata": {
  "kernelspec": {
   "display_name": "Python 3",
   "language": "python",
   "name": "python3"
  },
  "language_info": {
   "codemirror_mode": {
    "name": "ipython",
    "version": 3
   },
   "file_extension": ".py",
   "mimetype": "text/x-python",
   "name": "python",
   "nbconvert_exporter": "python",
   "pygments_lexer": "ipython3",
   "version": "3.8.3"
  }
 },
 "nbformat": 4,
 "nbformat_minor": 4
}
