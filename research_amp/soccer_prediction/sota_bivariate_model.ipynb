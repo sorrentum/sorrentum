{
 "cells": [
  {
   "cell_type": "code",
   "execution_count": 23,
   "id": "31a5a2b3",
   "metadata": {
    "ExecuteTime": {
     "end_time": "2024-07-01T15:08:49.735270Z",
     "start_time": "2024-07-01T15:08:49.721060Z"
    }
   },
   "outputs": [],
   "source": [
    "import logging\n",
    "import warnings\n",
    "\n",
    "import numpy as np\n",
    "import pandas as pd\n",
    "\n",
    "import helpers.hdbg as hdbg\n",
    "import research_amp.soccer_prediction.models as rasoprmo\n",
    "import research_amp.soccer_prediction.preproccesing as rasoprpr\n",
    "import research_amp.soccer_prediction.utils as rasoprut\n",
    "from scipy.special import factorial\n",
    "from scipy.optimize import minimize\n",
    "\n",
    "\n",
    "pd.set_option(\"display.max_columns\", None)\n",
    "warnings.filterwarnings(\"ignore\")"
   ]
  },
  {
   "cell_type": "code",
   "execution_count": 24,
   "id": "29fb8244",
   "metadata": {
    "ExecuteTime": {
     "end_time": "2024-07-01T15:08:51.372288Z",
     "start_time": "2024-07-01T15:08:50.598604Z"
    }
   },
   "outputs": [],
   "source": [
    "dataframes = rasoprut.load_data_to_dataframe(\"datasets/\")"
   ]
  },
  {
   "cell_type": "code",
   "execution_count": 10,
   "id": "4408e184",
   "metadata": {
    "ExecuteTime": {
     "end_time": "2024-07-01T14:44:45.131437Z",
     "start_time": "2024-07-01T14:44:45.124249Z"
    }
   },
   "outputs": [],
   "source": [
    "data = dataframes[\"ISDBv2_df\"]\n"
   ]
  },
  {
   "cell_type": "code",
   "execution_count": 12,
   "id": "91632bf3",
   "metadata": {
    "ExecuteTime": {
     "end_time": "2024-07-01T14:46:47.399198Z",
     "start_time": "2024-07-01T14:46:47.058544Z"
    }
   },
   "outputs": [
    {
     "name": "stdout",
     "output_type": "stream",
     "text": [
      "     Sea   Lge       Date              HT             AT  HS  AS  GD WDL  \\\n",
      "0  00-01  GER1 2000-08-11        Dortmund  Hansa Rostock   1   0   1   W   \n",
      "1  00-01  GER1 2000-08-12   Bayern Munich  Hertha Berlin   4   1   3   W   \n",
      "2  00-01  GER1 2000-08-12        Freiburg  VfB Stuttgart   4   0   4   W   \n",
      "3  00-01  GER1 2000-08-12    Hamburger SV    Munich 1860   2   2   0   D   \n",
      "4  00-01  GER1 2000-08-12  Kaiserslautern         Bochum   0   1  -1   L   \n",
      "\n",
      "   Days_Ago   Time_Weight  HT_id  AT_id  \n",
      "0      6165  4.894661e-11      0     17  \n",
      "1      6164  4.913546e-11      1     12  \n",
      "2      6164  4.913546e-11      2     13  \n",
      "3      6164  4.913546e-11      3     10  \n",
      "4      6164  4.913546e-11      4     11  \n"
     ]
    }
   ],
   "source": [
    "# Convert date column to datetime\n",
    "data['Date'] = pd.to_datetime(data['Date'], dayfirst=True)\n",
    "# Define half-life period (e.g., 180 days)\n",
    "half_life_period = 180\n",
    "# Calculate the age of each match in days (relative to the most recent match)\n",
    "data['Days_Ago'] = (data['Date'].max() - data['Date']).dt.days\n",
    "# Calculate time weights\n",
    "data['Time_Weight'] = 0.5 ** (data['Days_Ago'] / half_life_period)\n",
    "# Generate unique team identifiers.\n",
    "teams = pd.Series(data['HT'].tolist() + data['AT'].tolist()).unique()\n",
    "team_to_id = {team: idx for idx, team in enumerate(teams)}\n",
    "# Map teams to unique identifiers.\n",
    "data['HT_id'] = data['HT'].map(team_to_id)\n",
    "data['AT_id'] = data['AT'].map(team_to_id)\n",
    "# Display the first few rows of the dataset\n",
    "print(data.head())"
   ]
  },
  {
   "cell_type": "code",
   "execution_count": 25,
   "id": "d08812bb",
   "metadata": {
    "ExecuteTime": {
     "end_time": "2024-07-01T15:09:01.891525Z",
     "start_time": "2024-07-01T15:09:01.872478Z"
    }
   },
   "outputs": [],
   "source": [
    "def bivariate_poisson_log_likelihood(params, data):\n",
    "    c, h, rho, *strengths = params\n",
    "    log_likelihood = 0 \n",
    "    for _, row in data.iterrows():\n",
    "        i, j, goals_i, goals_j, time_weight = row['HT_id'], row['AT_id'], row['HS'], row['AS'], row['Time_Weight']\n",
    "        lambda_i = np.exp(c + strengths[i] + h - strengths[j])\n",
    "        lambda_j = np.exp(c + strengths[j] - strengths[i] - h)\n",
    "        cov = rho * np.sqrt(lambda_i * lambda_j)\n",
    "        # Calculate joint probability\n",
    "        joint_prob = 0\n",
    "        for k in range(min(goals_i, goals_j) + 1):\n",
    "            joint_prob += (\n",
    "                (np.exp(-lambda_i - lambda_j - cov) * lambda_i**goals_i * lambda_j**goals_j * cov**k) /\n",
    "                (factorial(goals_i) * factorial(goals_j) * factorial(k))\n",
    "            )\n",
    "        log_likelihood += time_weight * np.log(joint_prob)\n",
    "    return -log_likelihood "
   ]
  },
  {
   "cell_type": "code",
   "execution_count": 26,
   "id": "db0941c8",
   "metadata": {
    "ExecuteTime": {
     "end_time": "2024-07-01T15:09:02.279217Z",
     "start_time": "2024-07-01T15:09:02.268127Z"
    }
   },
   "outputs": [],
   "source": [
    "# Number of teams\n",
    "num_teams = len(teams)\n",
    "# Initial parameters: [c, h, rho, *strengths]\n",
    "initial_params = [0, 0, 0.1] + [1] * num_teams"
   ]
  },
  {
   "cell_type": "code",
   "execution_count": 31,
   "id": "616de772",
   "metadata": {
    "ExecuteTime": {
     "end_time": "2024-07-01T16:08:27.619873Z",
     "start_time": "2024-07-01T15:52:30.898605Z"
    }
   },
   "outputs": [
    {
     "name": "stderr",
     "output_type": "stream",
     "text": [
      " This problem is unconstrained.\n"
     ]
    },
    {
     "name": "stdout",
     "output_type": "stream",
     "text": [
      "RUNNING THE L-BFGS-B CODE\n",
      "\n",
      "           * * *\n",
      "\n",
      "Machine precision = 2.220D-16\n",
      " N =         1471     M =           10\n",
      "\n",
      "At X0         0 variables are exactly at the bounds\n",
      "\n",
      "At iterate    0    f=  6.60282D-04    |proj g|=  1.18502D-04\n",
      "Optimized Parameters: [0.  0.  0.1 ... 1.  1.  1. ]\n"
     ]
    },
    {
     "name": "stderr",
     "output_type": "stream",
     "text": [
      "\n",
      " Line search cannot locate an adequate point after MAXLS\n",
      "  function and gradient evaluations.\n",
      "  Previous x, f and g restored.\n",
      " Possible causes: 1 error in function or gradient evaluation;\n",
      "                  2 rounding error dominate computation.\n"
     ]
    },
    {
     "name": "stdout",
     "output_type": "stream",
     "text": [
      "\n",
      "           * * *\n",
      "\n",
      "Tit   = total number of iterations\n",
      "Tnf   = total number of function evaluations\n",
      "Tnint = total number of segments explored during Cauchy searches\n",
      "Skip  = number of BFGS updates skipped\n",
      "Nact  = number of active bounds at final generalized Cauchy point\n",
      "Projg = norm of the final projected gradient\n",
      "F     = final function value\n",
      "\n",
      "           * * *\n",
      "\n",
      "   N    Tit     Tnf  Tnint  Skip  Nact     Projg        F\n",
      " 1471      1     21      1     0     0   1.185D-04   6.603D-04\n",
      "  F =   6.6028153290966245E-004\n",
      "\n",
      "ABNORMAL_TERMINATION_IN_LNSRCH                              \n"
     ]
    }
   ],
   "source": [
    "# Select the data for the league and season.\n",
    "final_data = data[(data['Lge'] == 'ENG5') & \n",
    "                     ((data['Sea'] == '07-08') | \n",
    "                      (data['Sea'] == '06-07') | \n",
    "                      (data['Sea'] == '08-09'))]\n",
    "# Set optimization options.\n",
    "options = {\n",
    "    'maxiter': 10,  \n",
    "    'disp': True      \n",
    "}\n",
    "# Optimize parameters using the BFGS algorithm with options.\n",
    "result = minimize(bivariate_poisson_log_likelihood, initial_params, args=(final_data.iloc[:552],), method='L-BFGS-B', options=options)\n",
    "optimized_params = result.x\n",
    "print(\"Optimized Parameters:\", optimized_params)"
   ]
  },
  {
   "cell_type": "code",
   "execution_count": null,
   "id": "43f8bc1b",
   "metadata": {},
   "outputs": [],
   "source": []
  }
 ],
 "metadata": {
  "kernelspec": {
   "display_name": "Python 3 (ipykernel)",
   "language": "python",
   "name": "python3"
  },
  "language_info": {
   "codemirror_mode": {
    "name": "ipython",
    "version": 3
   },
   "file_extension": ".py",
   "mimetype": "text/x-python",
   "name": "python",
   "nbconvert_exporter": "python",
   "pygments_lexer": "ipython3",
   "version": "3.9.5"
  },
  "toc": {
   "base_numbering": 1,
   "nav_menu": {},
   "number_sections": true,
   "sideBar": true,
   "skip_h1_title": false,
   "title_cell": "Table of Contents",
   "title_sidebar": "Contents",
   "toc_cell": false,
   "toc_position": {},
   "toc_section_display": true,
   "toc_window_display": false
  }
 },
 "nbformat": 4,
 "nbformat_minor": 5
}
